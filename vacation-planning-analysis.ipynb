{
 "cells": [
  {
   "cell_type": "markdown",
   "metadata": {},
   "source": [
    "# Vacation Planning Analysis\n"
   ]
  },
  {
   "cell_type": "markdown",
   "metadata": {},
   "source": [
    "```\n",
    "City     Return Flight($)      Hotel per day($)       weekly car rental($)\n",
    "\n",
    "Paris       200                 20                  200\n",
    "London      250                 30                  120\n",
    "Dubai       370                 15                   80\n",
    "Mumbai      450                 10                   70\n",
    "```\n",
    "\n",
    "1. If you're planning a 1-week long trip, which city should you visit to spend the least amount of money?\n",
    "2. How does the answer to the prev question change if you change the duration of the trip to 4 days, 10 days or 2 weeks?\n",
    "3. If your total budget for the trip is $1000, which city should you visit to maximize the duration of your trip? Which city should you visit if you want to minimize the duration?\n",
    "4. How does the answer to previous question change if the budget is $500, $2000 or $1500\n"
   ]
  },
  {
   "cell_type": "code",
   "execution_count": 2,
   "metadata": {},
   "outputs": [
    {
     "name": "stdout",
     "output_type": "stream",
     "text": [
      "[{'city': 'Paris', 'returnFlight': 200, 'hotelPerDay': 20, 'weeklyCarRental': 200}, {'city': 'London', 'returnFlight': 250, 'hotelPerDay': 30, 'weeklyCarRental': 120}, {'city': 'Dubai', 'returnFlight': 370, 'hotelPerDay': 15, 'weeklyCarRental': 80}, {'city': 'Mumbai', 'returnFlight': 450, 'hotelPerDay': 10, 'weeklyCarRental': 70}]\n"
     ]
    }
   ],
   "source": [
    "# Initializing the data\n",
    "tripCatalogue = [\n",
    "    {\n",
    "        \"city\": \"Paris\",\n",
    "        \"returnFlight\": 200,\n",
    "        \"hotelPerDay\": 20,\n",
    "        \"weeklyCarRental\": 200,\n",
    "    },\n",
    "    {\n",
    "        \"city\": \"London\",\n",
    "        \"returnFlight\": 250,\n",
    "        \"hotelPerDay\": 30,\n",
    "        \"weeklyCarRental\": 120,\n",
    "    },\n",
    "    {\n",
    "        \"city\": \"Dubai\",\n",
    "        \"returnFlight\": 370,\n",
    "        \"hotelPerDay\": 15,\n",
    "        \"weeklyCarRental\": 80,\n",
    "    },\n",
    "    {\n",
    "        \"city\": \"Mumbai\",\n",
    "        \"returnFlight\": 450,\n",
    "        \"hotelPerDay\": 10,\n",
    "        \"weeklyCarRental\": 70,\n",
    "    },\n",
    "]\n",
    "\n",
    "print(tripCatalogue)"
   ]
  },
  {
   "cell_type": "markdown",
   "metadata": {},
   "source": [
    "### Calculating best country on the basis of length of trip\n"
   ]
  },
  {
   "cell_type": "code",
   "execution_count": 3,
   "metadata": {},
   "outputs": [],
   "source": [
    "import math\n",
    "\n",
    "\n",
    "def bestCountryOnBasisOfLengthOfTrip(data, lengthOfTrip):\n",
    "    def expenseInEachCountry(data, lengthOfTrip):\n",
    "        expense = []\n",
    "        for d in data:\n",
    "            city = d[\"city\"]\n",
    "            totalCost = (\n",
    "                int(d[\"returnFlight\"])\n",
    "                + (int(d[\"hotelPerDay\"]) * lengthOfTrip)\n",
    "                + (int(d[\"weeklyCarRental\"]) * math.ceil(lengthOfTrip / 7))\n",
    "            )\n",
    "            expense.append([city, totalCost])\n",
    "        return expense\n",
    "\n",
    "    expenseCalculationData = expenseInEachCountry(data, lengthOfTrip)\n",
    "\n",
    "    def leastExpense(data):\n",
    "        compareArr = []\n",
    "        for d in data:\n",
    "            compareArr.append(d[1])\n",
    "        cheapest = min(compareArr)\n",
    "        compareArr = []\n",
    "        for d in data:\n",
    "            if d[1] == cheapest:\n",
    "                compareArr.append(d[0])\n",
    "        return [cheapest, compareArr]\n",
    "\n",
    "    cheapestContriesToVisitData = leastExpense(expenseCalculationData)\n",
    "\n",
    "    if len(cheapestContriesToVisitData[1]) > 1:\n",
    "        print(\"The cheapest contries to visit are \", end=\"\")\n",
    "        for i in cheapestContriesToVisitData[1]:\n",
    "            print(i, end=\"\")\n",
    "            print(\", \", end=\"\")\n",
    "        print(\"with the cost being ${}\".format(cheapestContriesToVisitData[0]))\n",
    "    else:\n",
    "        print(\n",
    "            \"The cheapest country to visit is {}, with the cost being ${}\".format(\n",
    "                cheapestContriesToVisitData[1][0], cheapestContriesToVisitData[0]\n",
    "            )\n",
    "        )"
   ]
  },
  {
   "cell_type": "code",
   "execution_count": 8,
   "metadata": {},
   "outputs": [
    {
     "name": "stdout",
     "output_type": "stream",
     "text": [
      "The cheapest contries to visit are Dubai, Mumbai, with the cost being $710\n"
     ]
    }
   ],
   "source": [
    "bestCountryOnBasisOfLengthOfTrip(tripCatalogue, 12)"
   ]
  },
  {
   "cell_type": "markdown",
   "metadata": {},
   "source": [
    "### Calculating best country on the basis of budget\n"
   ]
  },
  {
   "cell_type": "code",
   "execution_count": 5,
   "metadata": {},
   "outputs": [],
   "source": [
    "def bestCountryOnBasisOfBudget(tripCatalogue, budget):\n",
    "    def durationOfTripBasedOnBudget(data, budget):\n",
    "        cityData = []\n",
    "        for d in data:\n",
    "            numOfDays = 1\n",
    "            singleCityData = {\"city\": \"\", \"cost\": 0, \"numOfDays\": 0}\n",
    "            while singleCityData[\"cost\"] <= budget:\n",
    "                totalCost = (\n",
    "                    int(d[\"returnFlight\"])\n",
    "                    + (int(d[\"hotelPerDay\"]) * numOfDays)\n",
    "                    + (int(d[\"weeklyCarRental\"]) * math.ceil(numOfDays / 7))\n",
    "                )\n",
    "                singleCityData[\"cost\"] = totalCost\n",
    "                numOfDays += 1\n",
    "            singleCityData[\"city\"] = d[\"city\"]\n",
    "            singleCityData[\"numOfDays\"] = numOfDays\n",
    "            cityData.append(singleCityData)\n",
    "        return cityData\n",
    "\n",
    "    durationBasedData = durationOfTripBasedOnBudget(tripCatalogue, budget)\n",
    "\n",
    "    def determineMinMaxDurationCountryBasedOnBudget(data):\n",
    "        compareArr = []\n",
    "        for d in data:\n",
    "            compareArr.append(d[\"numOfDays\"])\n",
    "            leastNumOfDays = min(compareArr)\n",
    "            mostNumOfDays = max(compareArr)\n",
    "            leastNumOfDaysCountries = []\n",
    "            mostNumOfDaysCountries = []\n",
    "        for d in data:\n",
    "            if d[\"numOfDays\"] == leastNumOfDays:\n",
    "                leastNumOfDaysCountries.append(d[\"city\"])\n",
    "            if d[\"numOfDays\"] == mostNumOfDays:\n",
    "                mostNumOfDaysCountries.append(d[\"city\"])\n",
    "        return {\n",
    "            \"least\": {\"numOfDays\": leastNumOfDays, \"cities\": leastNumOfDaysCountries},\n",
    "            \"most\": {\"numOfDays\": mostNumOfDays, \"cities\": mostNumOfDaysCountries},\n",
    "        }\n",
    "\n",
    "    finalDurationData = determineMinMaxDurationCountryBasedOnBudget(durationBasedData)\n",
    "\n",
    "    least = finalDurationData[\"least\"]\n",
    "    most = finalDurationData[\"most\"]\n",
    "\n",
    "    if len(least[\"cities\"]) > 1:\n",
    "        print(\n",
    "            \"For a budget of ${}, the countries that you can visit are \".format(budget),\n",
    "            end=\"\",\n",
    "        )\n",
    "        for i in least[\"cities\"]:\n",
    "            print(i, end=\"\")\n",
    "            print(\", \", end=\"\")\n",
    "        print(\"for a total of {} days\".format(least[\"numOfDays\"]))\n",
    "    else:\n",
    "        print(\n",
    "            \"For a budget of ${}, the country that you can visit is {} for a total of {} days\".format(\n",
    "                budget, least[\"cities\"][0], least[\"numOfDays\"]\n",
    "            )\n",
    "        )\n",
    "\n",
    "    if len(most[\"cities\"]) > 1:\n",
    "        print(\n",
    "            \"For a budget of ${}, the countries that you can visit are \".format(budget),\n",
    "            end=\"\",\n",
    "        )\n",
    "        for i in most[\"cities\"]:\n",
    "            print(i, end=\"\")\n",
    "            print(\", \", end=\"\")\n",
    "        print(\"for a total of {} days\".format(most[\"numOfDays\"]))\n",
    "    else:\n",
    "        print(\n",
    "            \"For a budget of ${}, the country that you can visit is {}, for a total of {} days\".format(\n",
    "                budget, most[\"cities\"][0], most[\"numOfDays\"]\n",
    "            )\n",
    "        )"
   ]
  },
  {
   "cell_type": "code",
   "execution_count": 10,
   "metadata": {},
   "outputs": [
    {
     "name": "stdout",
     "output_type": "stream",
     "text": [
      "For a budget of $500, the country that you can visit is Mumbai for a total of 2 days\n",
      "For a budget of $500, the country that you can visit is Paris, for a total of 7 days\n"
     ]
    }
   ],
   "source": [
    "bestCountryOnBasisOfBudget(tripCatalogue, 500)"
   ]
  }
 ],
 "metadata": {
  "kernelspec": {
   "display_name": "base",
   "language": "python",
   "name": "python3"
  },
  "language_info": {
   "codemirror_mode": {
    "name": "ipython",
    "version": 3
   },
   "file_extension": ".py",
   "mimetype": "text/x-python",
   "name": "python",
   "nbconvert_exporter": "python",
   "pygments_lexer": "ipython3",
   "version": "3.10.11"
  },
  "orig_nbformat": 4
 },
 "nbformat": 4,
 "nbformat_minor": 2
}
